{
 "cells": [
  {
   "cell_type": "code",
   "execution_count": 1,
   "metadata": {},
   "outputs": [
    {
     "data": {
      "text/plain": [
       "\"# Read data files\\nTickets_2022 = pd.read_csv('/Users/emma.ortiz/Documents/Code-You/Projects/finalproject/Tickets_2022.csv')\\nTickets_2023 = pd.read_csv('/Users/emma.ortiz/Documents/Code-You/Projects/finalproject/Tickets_2023.csv')\""
      ]
     },
     "execution_count": 1,
     "metadata": {},
     "output_type": "execute_result"
    }
   ],
   "source": [
    "import pandas as pd\n",
    "import numpy as np\n",
    "\n",
    "# The code below is what I used to read my two original datasets, Tickets_2022 and Tickets_2023. These contain sensitive information, so I have not included them in this repository.\n",
    "\n",
    "\"\"\"# Read data files\n",
    "Tickets_2022 = pd.read_csv('/Users/emma.ortiz/Documents/Code-You/Projects/finalproject/Tickets_2022.csv')\n",
    "Tickets_2023 = pd.read_csv('/Users/emma.ortiz/Documents/Code-You/Projects/finalproject/Tickets_2023.csv')\"\"\""
   ]
  }
 ],
 "metadata": {
  "kernelspec": {
   "display_name": "venv",
   "language": "python",
   "name": "python3"
  },
  "language_info": {
   "codemirror_mode": {
    "name": "ipython",
    "version": 3
   },
   "file_extension": ".py",
   "mimetype": "text/x-python",
   "name": "python",
   "nbconvert_exporter": "python",
   "pygments_lexer": "ipython3",
   "version": "3.9.6"
  }
 },
 "nbformat": 4,
 "nbformat_minor": 5
}
