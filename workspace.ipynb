{
 "cells": [
  {
   "cell_type": "code",
   "execution_count": 5,
   "metadata": {},
   "outputs": [
    {
     "data": {
      "text/plain": [
       "\"# Read data files\\nTickets_2022 = pd.read_csv('/Users/emma.ortiz/Documents/Code-You/Projects/finalproject/Tickets_2022.csv')\\nTickets_2023 = pd.read_csv('/Users/emma.ortiz/Documents/Code-You/Projects/finalproject/Tickets_2023.csv')\""
      ]
     },
     "execution_count": 5,
     "metadata": {},
     "output_type": "execute_result"
    }
   ],
   "source": [
    "import pandas as pd\n",
    "import numpy as np\n",
    "\n",
    "# The code below is what I used to read my two original datasets, Tickets_2022 and Tickets_2023. These contain sensitive information, so I have not included them in this repository.\n",
    "\n",
    "\"\"\"# Read data files\n",
    "Tickets_2022 = pd.read_csv('/Users/emma.ortiz/Documents/Code-You/Projects/finalproject/Tickets_2022.csv')\n",
    "Tickets_2023 = pd.read_csv('/Users/emma.ortiz/Documents/Code-You/Projects/finalproject/Tickets_2023.csv')\"\"\""
   ]
  },
  {
   "cell_type": "code",
   "execution_count": 4,
   "id": "7a60255d",
   "metadata": {},
   "outputs": [
    {
     "ename": "NameError",
     "evalue": "name 'Tickets_2022' is not defined",
     "output_type": "error",
     "traceback": [
      "\u001b[0;31m---------------------------------------------------------------------------\u001b[0m",
      "\u001b[0;31mNameError\u001b[0m                                 Traceback (most recent call last)",
      "Cell \u001b[0;32mIn[4], line 34\u001b[0m\n\u001b[1;32m      3\u001b[0m \u001b[38;5;124;03m\"\"\"# Initialize a dictionary to store mappings between original values and random codes\u001b[39;00m\n\u001b[1;32m      4\u001b[0m \u001b[38;5;124;03mrandom_code_mapping = {}\u001b[39;00m\n\u001b[1;32m      5\u001b[0m \n\u001b[0;32m   (...)\u001b[0m\n\u001b[1;32m     30\u001b[0m \u001b[38;5;124;03mdata_2022_final = Tickets_2022.to_csv('data_2022_final.csv', index=False)\u001b[39;00m\n\u001b[1;32m     31\u001b[0m \u001b[38;5;124;03mdata_2023_final = Tickets_2023.to_csv('data_2023_final.csv', index=False)\"\"\"\u001b[39;00m\n\u001b[1;32m     33\u001b[0m \u001b[38;5;66;03m# Write merged data to CSV\u001b[39;00m\n\u001b[0;32m---> 34\u001b[0m merged_data \u001b[38;5;241m=\u001b[39m pd\u001b[38;5;241m.\u001b[39mconcat([\u001b[43mTickets_2022\u001b[49m, Tickets_2023])\n\u001b[1;32m     35\u001b[0m merged_data\u001b[38;5;241m.\u001b[39mto_csv(\u001b[38;5;124m'\u001b[39m\u001b[38;5;124mmerged_data.csv\u001b[39m\u001b[38;5;124m'\u001b[39m, index\u001b[38;5;241m=\u001b[39m\u001b[38;5;28;01mFalse\u001b[39;00m)\n",
      "\u001b[0;31mNameError\u001b[0m: name 'Tickets_2022' is not defined"
     ]
    }
   ],
   "source": [
    "# The below code is what I used to anonymize the datasets Tickets_2022 and Tickets_2023 and merge them. In this repository, I have provided the resulting anonymized, merged dataset merged_data to protect sensitive information.\n",
    "\n",
    "\"\"\"# Initialize a dictionary to store mappings between original values and random codes\n",
    "random_code_mapping = {}\n",
    "\n",
    "# Function to generate a random code for each unique value\n",
    "def generate_random_code(value):\n",
    "    if value not in random_code_mapping:\n",
    "        random_code_mapping[value] = str(np.random.randint(1000, 9999))\n",
    "    return random_code_mapping[value]\n",
    "\n",
    "# Function to apply random codes to a dataset\n",
    "def apply_random_codes(dataset):\n",
    "    sensitive_columns = ['Requester Email', 'Agent']\n",
    "    for column in sensitive_columns:\n",
    "        dataset[column] = dataset[column].apply(generate_random_code)\n",
    "    return dataset\n",
    "\n",
    "# Apply random codes to the first dataset\n",
    "Tickets_2022 = apply_random_codes(Tickets_2022)\n",
    "\n",
    "# Store the random code mappings generated for the first dataset\n",
    "first_dataset_codes = random_code_mapping.copy()\n",
    "\n",
    "# Apply random codes to the second dataset reusing codes from the first dataset\n",
    "random_code_mapping = first_dataset_codes.copy()\n",
    "Tickets_2023 = apply_random_codes(Tickets_2023)\n",
    "\n",
    "# Save the datasets\n",
    "data_2022_final = Tickets_2022.to_csv('data_2022_final.csv', index=False)\n",
    "data_2023_final = Tickets_2023.to_csv('data_2023_final.csv', index=False)\n",
    "\n",
    "# Write merged data to CSV\n",
    "merged_data = pd.concat([Tickets_2022, Tickets_2023])\n",
    "merged_data.to_csv('merged_data.csv', index=False)\"\"\""
   ]
  }
 ],
 "metadata": {
  "kernelspec": {
   "display_name": "venv",
   "language": "python",
   "name": "python3"
  },
  "language_info": {
   "codemirror_mode": {
    "name": "ipython",
    "version": 3
   },
   "file_extension": ".py",
   "mimetype": "text/x-python",
   "name": "python",
   "nbconvert_exporter": "python",
   "pygments_lexer": "ipython3",
   "version": "3.9.6"
  }
 },
 "nbformat": 4,
 "nbformat_minor": 5
}
