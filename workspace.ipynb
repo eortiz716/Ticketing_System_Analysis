{
 "cells": [
  {
   "cell_type": "code",
   "execution_count": 10,
   "metadata": {},
   "outputs": [
    {
     "data": {
      "text/plain": [
       "\"# Read data files\\nTickets_2022 = pd.read_csv('/Users/emma.ortiz/Documents/Code-You/Projects/finalproject/Tickets_2022.csv')\\nTickets_2023 = pd.read_csv('/Users/emma.ortiz/Documents/Code-You/Projects/finalproject/Tickets_2023.csv')\""
      ]
     },
     "execution_count": 10,
     "metadata": {},
     "output_type": "execute_result"
    }
   ],
   "source": [
    "import pandas as pd\n",
    "import numpy as np\n",
    "\n",
    "# The code below is what I used to read my two original datasets, Tickets_2022 and Tickets_2023. These contain sensitive information, so I have not included them in this repository.\n",
    "\n",
    "\"\"\"# Read data files\n",
    "Tickets_2022 = pd.read_csv('/Users/emma.ortiz/Documents/Code-You/Projects/finalproject/Tickets_2022.csv')\n",
    "Tickets_2023 = pd.read_csv('/Users/emma.ortiz/Documents/Code-You/Projects/finalproject/Tickets_2023.csv')\"\"\""
   ]
  },
  {
   "cell_type": "code",
   "execution_count": 11,
   "id": "7a60255d",
   "metadata": {},
   "outputs": [
    {
     "data": {
      "text/plain": [
       "\"\\n# Initialize a dictionary to store mappings between original values and random codes\\nrandom_code_mapping = {}\\n\\n# Function to generate a random code for each unique value\\ndef generate_random_code(value):\\n    if value not in random_code_mapping:\\n        random_code_mapping[value] = str(np.random.randint(1000, 9999))\\n    return random_code_mapping[value]\\n\\n# Function to apply random codes to a dataset\\ndef apply_random_codes(dataset):\\n    sensitive_columns = ['Requester Email', 'Agent']\\n    for column in sensitive_columns:\\n        dataset[column] = dataset[column].apply(generate_random_code)\\n    return dataset\\n\\n# Apply random codes to the first dataset\\n# Tickets_2022 = apply_random_codes(Tickets_2022)\\n\\n# Store the random code mappings generated for the first dataset\\n# first_dataset_codes = random_code_mapping.copy()\\n\\n# Apply random codes to the second dataset reusing codes from the first dataset\\n# random_code_mapping = first_dataset_codes.copy()\\n# Tickets_2023 = apply_random_codes(Tickets_2023)\\n\\n# Save the datasets\\n# data_2022_final = Tickets_2022.to_csv('data_2022_final.csv', index=False)\\n# data_2023_final = Tickets_2023.to_csv('data_2023_final.csv', index=False)\\n\\n# Write merged data to CSV\\n# merged_data = pd.concat([Tickets_2022, Tickets_2023])\\n# merged_data.to_csv('merged_data.csv', index=False)\\n\""
      ]
     },
     "execution_count": 11,
     "metadata": {},
     "output_type": "execute_result"
    }
   ],
   "source": [
    "# The below code is what I used to anonymize the datasets Tickets_2022 and Tickets_2023 and merge them. In this repository, I have provided the resulting anonymized, merged dataset merged_data to protect sensitive information.\n",
    "\n",
    "\"\"\"\n",
    "# Initialize a dictionary to store mappings between original values and random codes\n",
    "random_code_mapping = {}\n",
    "\n",
    "# Function to generate a random code for each unique value\n",
    "def generate_random_code(value):\n",
    "    if value not in random_code_mapping:\n",
    "        random_code_mapping[value] = str(np.random.randint(1000, 9999))\n",
    "    return random_code_mapping[value]\n",
    "\n",
    "# Function to apply random codes to a dataset\n",
    "def apply_random_codes(dataset):\n",
    "    sensitive_columns = ['Requester Email', 'Agent']\n",
    "    for column in sensitive_columns:\n",
    "        dataset[column] = dataset[column].apply(generate_random_code)\n",
    "    return dataset\n",
    "\n",
    "# Apply random codes to the first dataset\n",
    "# Tickets_2022 = apply_random_codes(Tickets_2022)\n",
    "\n",
    "# Store the random code mappings generated for the first dataset\n",
    "# first_dataset_codes = random_code_mapping.copy()\n",
    "\n",
    "# Apply random codes to the second dataset reusing codes from the first dataset\n",
    "# random_code_mapping = first_dataset_codes.copy()\n",
    "# Tickets_2023 = apply_random_codes(Tickets_2023)\n",
    "\n",
    "# Save the datasets\n",
    "# data_2022_final = Tickets_2022.to_csv('data_2022_final.csv', index=False)\n",
    "# data_2023_final = Tickets_2023.to_csv('data_2023_final.csv', index=False)\n",
    "\n",
    "# Write merged data to CSV\n",
    "# merged_data = pd.concat([Tickets_2022, Tickets_2023])\n",
    "# merged_data.to_csv('merged_data.csv', index=False)\n",
    "\"\"\""
   ]
  },
  {
   "cell_type": "code",
   "execution_count": 12,
   "id": "d9c03fa6",
   "metadata": {},
   "outputs": [],
   "source": [
    "# Load provided merged_data.csv\n",
    "merged_data = pd.read_csv('merged_data.csv')\n",
    "\n",
    "# Define a function to search for keywords in a given text and return a phrase based on the result\n",
    "def team(group):\n",
    "    if 'SD' in group:\n",
    "        return 'Service Desk Team'\n",
    "    elif 'NT' in group:\n",
    "        return 'Network Team'\n",
    "    elif 'AD' in group:\n",
    "        return 'Application Development Team'\n",
    "    elif 'ID' in group:\n",
    "        return 'Instructional Design Team'\n",
    "    elif 'System Inbox' or 'SPAM' or 'AVP' in group:\n",
    "        return 'Other'\n",
    "    else:\n",
    "        return 'No match'  # Return a default value if no keyword is found\n",
    "\n",
    "# Apply the function to create a new column based on the 'Group' column\n",
    "merged_data['Team'] = merged_data['Group'].apply(team)\n",
    "\n",
    "# Insert the 'Team' column after 'Group' column\n",
    "group_column = merged_data.columns.get_loc('Group')  # Get the index of 'Group' column\n",
    "merged_data.insert(group_column + 1, 'Team', merged_data.pop('Team'))\n",
    "\n",
    "# Save the DataFrame with the new 'Team' column to the merged_data CSV file\n",
    "merged_data.to_csv('merged_data.csv', index=False)\n"
   ]
  }
 ],
 "metadata": {
  "kernelspec": {
   "display_name": "venv",
   "language": "python",
   "name": "python3"
  },
  "language_info": {
   "codemirror_mode": {
    "name": "ipython",
    "version": 3
   },
   "file_extension": ".py",
   "mimetype": "text/x-python",
   "name": "python",
   "nbconvert_exporter": "python",
   "pygments_lexer": "ipython3",
   "version": "3.9.6"
  }
 },
 "nbformat": 4,
 "nbformat_minor": 5
}
