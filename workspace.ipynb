{
 "cells": [
  {
   "cell_type": "code",
   "execution_count": null,
   "id": "6b5fa118",
   "metadata": {},
   "outputs": [],
   "source": [
    "import pandas as pd\n",
    "import numpy as np\n",
    "\n",
    "# The code below is what I used to read my two original datasets, Tickets_2022 and Tickets_2023. These contain sensitive information, so I have not included them in this repository.\n",
    "\n",
    "\"\"\"# Read data files\n",
    "Tickets_2022 = pd.read_csv('/Users/emma.ortiz/Documents/Code-You/Projects/finalproject/Tickets_2022.csv')\n",
    "Tickets_2023 = pd.read_csv('/Users/emma.ortiz/Documents/Code-You/Projects/finalproject/Tickets_2023.csv')\"\"\""
   ]
  }
 ],
 "metadata": {
  "kernelspec": {
   "display_name": "venv",
   "language": "python",
   "name": "python3"
  },
  "language_info": {
   "name": "python",
   "version": "3.12.0"
  }
 },
 "nbformat": 4,
 "nbformat_minor": 5
}
